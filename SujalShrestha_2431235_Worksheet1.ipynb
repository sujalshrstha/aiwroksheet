{
 "cells": [
  {
   "cell_type": "code",
   "execution_count": 24,
   "metadata": {
    "colab": {
     "base_uri": "https://localhost:8080/"
    },
    "id": "z2MMFzTQmdB7",
    "outputId": "5c5da47e-a863-4133-dff2-cd7ad6106fd5"
   },
   "outputs": [
    {
     "name": "stdout",
     "output_type": "stream",
     "text": [
      "Full: [[10 10 10]\n",
      " [10 10 10]] (2, 3) int64\n",
      "\n",
      "Empty array (2x2):\n",
      " [[4.9e-324 9.9e-324]\n",
      " [1.5e-323 2.0e-323]]\n",
      "All ones array (4x2):\n",
      " [[1. 1.]\n",
      " [1. 1.]\n",
      " [1. 1.]\n",
      " [1. 1.]]\n",
      "Array of zeros like ones_array:\n",
      " [[0. 0.]\n",
      " [0. 0.]\n",
      " [0. 0.]\n",
      " [0. 0.]]\n",
      "\n",
      "Array of ones like ones_array:\n",
      " [[1. 1.]\n",
      " [1. 1.]\n",
      " [1. 1.]\n",
      " [1. 1.]]\n",
      "\n",
      "NumPy array from list:\n",
      " [1 2 3 4]\n"
     ]
    }
   ],
   "source": [
    "#1.Array Creation\n",
    "import numpy as np\n",
    "arr = np.full((2,3),10)\n",
    "print(\"Full:\",arr, arr.shape, arr.dtype)\n",
    "\n",
    "empty_array = np.empty((2, 2))\n",
    "\n",
    "ones_array = np.ones((4, 2))\n",
    "zeros_like_array = np.zeros_like(ones_array)\n",
    "ones_like_array = np.ones_like(ones_array)\n",
    "\n",
    "new_list = [1, 2, 3, 4]\n",
    "numpy_array = np.array(new_list)\n",
    "\n",
    "print(\"\\nEmpty array (2x2):\\n\", empty_array)\n",
    "print(\"All ones array (4x2):\\n\", ones_array)\n",
    "print(\"Array of zeros like ones_array:\\n\", zeros_like_array)\n",
    "print(\"\\nArray of ones like ones_array:\\n\", ones_like_array)\n",
    "print(\"\\nNumPy array from list:\\n\", numpy_array)"
   ]
  },
  {
   "cell_type": "code",
   "execution_count": 58,
   "metadata": {
    "colab": {
     "base_uri": "https://localhost:8080/"
    },
    "id": "64uwhAqZnJqc",
    "outputId": "9ea1b8c8-5491-47a5-bf8f-e3449f3a7d29"
   },
   "outputs": [
    {
     "name": "stdout",
     "output_type": "stream",
     "text": [
      "\n",
      "values ranging from 10 and 49\n",
      " [10 11 12 13 14 15 16 17 18 19 20 21 22 23 24 25 26 27 28 29 30 31 32 33\n",
      " 34 35 36 37 38 39 40 41 42 43 44 45 46 47 48 49]\n",
      "\n",
      "matrix:\n",
      " [[0 1 2]\n",
      " [3 4 5]\n",
      " [6 7 8]]\n",
      "\n",
      "Identity matrix:\n",
      " [[1. 0. 0.]\n",
      " [0. 1. 0.]\n",
      " [0. 0. 1.]]\n",
      "[0.91894169 0.21051505 0.33800733 0.16737563 0.2542378  0.53004463\n",
      " 0.0844589  0.96480845 0.86398186 0.61462856 0.99300946 0.54763881\n",
      " 0.15905425 0.65619772 0.56991448 0.32582612 0.49481997 0.88013146\n",
      " 0.19562592 0.44684717 0.23121143 0.48958789 0.32831129 0.42549815\n",
      " 0.01272158 0.28430664 0.30803586 0.59162508 0.48462343 0.38530736]\n",
      "\n",
      "mean of random array\n",
      " 0.4585764661798132\n",
      "\n",
      "minimum:\n",
      " 0.0009505023266404011\n",
      "maximum:\n",
      " 0.0009505023266404011\n"
     ]
    }
   ],
   "source": [
    "#2.Array Manipulation\n",
    "import numpy as np\n",
    "\n",
    "#1\n",
    "arr = np.arange(10,50)\n",
    "print(\"\\nvalues ranging from 10 and 49\\n\",arr)\n",
    "#2\n",
    "matrix_3x3 = np.arange(9).reshape(3, 3)\n",
    "print(\"\\nmatrix:\\n\",matrix_3x3)\n",
    "#3\n",
    "identity_mat = np.eye(3)\n",
    "print(\"\\nIdentity matrix:\\n\",identity_mat)\n",
    "#4\n",
    "random_arr = np.random.random(30)\n",
    "mean = random_arr.mean()\n",
    "print(random_arr)\n",
    "print(\"\\nmean of random array\\n\", mean)\n",
    "\n",
    "#5. 10X10 array with random values\n",
    "random_matrix = np.random.random((10, 10))\n",
    "min_value = random_matrix.min()\n",
    "max_value = random_matrix.max()\n",
    "print(\"\\nminimum:\\n\",min_value)\n",
    "print(\"maximum:\\n\",min_value)\n"
   ]
  },
  {
   "cell_type": "code",
   "execution_count": 60,
   "metadata": {
    "colab": {
     "base_uri": "https://localhost:8080/"
    },
    "id": "q6eNmNf8Pa2O",
    "outputId": "711b2680-02c6-423b-d69e-814d0dbdacc4"
   },
   "outputs": [
    {
     "name": "stdout",
     "output_type": "stream",
     "text": [
      "\n",
      "Zero array with 5th element replaced by 1:\n",
      " [0. 0. 0. 0. 1. 0. 0. 0. 0. 0.]\n",
      "\n",
      "reversed array:\n",
      " [0, 4, 0, 0, 2, 1]\n",
      "\n",
      "2d array with 1 on border\n",
      " [[1. 1. 1. 1. 1.]\n",
      " [1. 0. 0. 0. 1.]\n",
      " [1. 0. 0. 0. 1.]\n",
      " [1. 0. 0. 0. 1.]\n",
      " [1. 1. 1. 1. 1.]]\n",
      "Checker board:\n",
      " [[0 1 0 1 0 1 0 1]\n",
      " [1 0 1 0 1 0 1 0]\n",
      " [0 1 0 1 0 1 0 1]\n",
      " [1 0 1 0 1 0 1 0]\n",
      " [0 1 0 1 0 1 0 1]\n",
      " [1 0 1 0 1 0 1 0]\n",
      " [0 1 0 1 0 1 0 1]\n",
      " [1 0 1 0 1 0 1 0]]\n"
     ]
    }
   ],
   "source": [
    "#6\n",
    "zero_array = np.zeros(10)\n",
    "zero_array[4] = 1\n",
    "print(\"\\nZero array with 5th element replaced by 1:\\n\", zero_array)\n",
    "\n",
    "#7\n",
    "arr = [1, 2, 0, 0, 4, 0]\n",
    "reversed_array = arr[::-1]\n",
    "print(\"\\nreversed array:\\n\", reversed_array)\n",
    "\n",
    "#8 2d with 1 and 0\n",
    "border_arr = np.ones((5, 5))\n",
    "border_arr[1:-1, 1:-1] = 0\n",
    "print(\"\\n2d array with 1 on border\\n\", border_arr)\n",
    "\n",
    "#9\n",
    "checkerboard_matrix = np.zeros((8, 8), dtype=int)\n",
    "checkerboard_matrix[1::2, ::2] = 1\n",
    "checkerboard_matrix[::2, 1::2] = 1\n",
    "print(\"Checker board:\\n\",checkerboard_matrix)"
   ]
  },
  {
   "cell_type": "code",
   "execution_count": 63,
   "metadata": {
    "colab": {
     "base_uri": "https://localhost:8080/"
    },
    "id": "QUIaae31nLOz",
    "outputId": "16a32fd4-bed5-4ce3-e2d5-361811430b83"
   },
   "outputs": [
    {
     "name": "stdout",
     "output_type": "stream",
     "text": [
      "Sum of x and y: [[ 6  8]\n",
      " [10 13]]\n",
      "Difference between x and y: [[-4 -4]\n",
      " [-4 -3]]\n",
      "Multiplication of x with an integer: [[ 3  6]\n",
      " [ 9 15]]\n",
      "Square of each element of x:\n",
      " [[ 1  4]\n",
      " [ 9 25]]\n",
      "\n",
      "dot product between v and w: 219\n",
      "dot product between x and v: [29 77]\n",
      "dot product between x and y:\n",
      " [[19 22]\n",
      " [50 58]]\n",
      "\n",
      "Concatenation and y along row [[1 2]\n",
      " [3 5]\n",
      " [5 6]\n",
      " [7 8]]\n",
      "Concatenation and y along row\n",
      " [[ 9 10]\n",
      " [11 12]]\n",
      "all the input arrays must have same number of dimensions, but the array at index 0 has 2 dimension(s) and the array at index 1 has 1 dimension(s)\n"
     ]
    }
   ],
   "source": [
    "#3.Array Operations\n",
    "import numpy as np\n",
    "x = np.array([[1,2],[3,5]])\n",
    "y = np.array([[5,6],[7,8]])\n",
    "v = np.array([9,10])\n",
    "w = np.array([11,12])\n",
    "\n",
    "sum = x+y\n",
    "diff = x-y\n",
    "mult = x*3\n",
    "sq = np.square(x)\n",
    "\n",
    "print(\"Sum of x and y:\", sum)\n",
    "print(\"Difference between x and y:\", diff)\n",
    "print(\"Multiplication of x with an integer:\", mult)\n",
    "print(\"Square of each element of x:\\n\", sq)\n",
    "\n",
    "#dot\n",
    "dot_vw = np.dot(v,w)\n",
    "dot_xv = np.dot(x,v)\n",
    "dot_xy = np.dot(x,y)\n",
    "print(\"\\ndot product between v and w:\",dot_vw)\n",
    "print(\"dot product between x and v:\",dot_xv)\n",
    "print(\"dot product between x and y:\\n\",dot_xy)\n",
    "\n",
    "#concat\n",
    "concat_xy = np.concatenate((x,y), axis = 0)\n",
    "concat_vw = np.vstack((v,w))\n",
    "print(\"\\nConcatenation and y along row\", concat_xy)\n",
    "print(\"Concatenation and y along row\\n\", concat_vw)\n",
    "\n",
    "try:\n",
    "  concat_sv = np.concatenate((x,v), axis = 0)\n",
    "except ValueError as e:\n",
    "  print(e)"
   ]
  },
  {
   "cell_type": "code",
   "execution_count": 64,
   "metadata": {
    "colab": {
     "base_uri": "https://localhost:8080/"
    },
    "id": "oq4m2Lcct7Rf",
    "outputId": "357af3fc-562b-48aa-b873-46ecff3a7a97"
   },
   "outputs": [
    {
     "name": "stdout",
     "output_type": "stream",
     "text": [
      "A*A^-1= [[1. 0.]\n",
      " [0. 1.]]\n",
      "AB is not equal to B. Proved\n",
      "(AB)T = B^T.A^T\n"
     ]
    }
   ],
   "source": [
    "#4.1\n",
    "#Matrix Operations\n",
    "import numpy as np\n",
    "#1\n",
    "A= np.array([[3,4],[7,8]])\n",
    "B = np.array([[5,3],[2,1]])\n",
    "A_inv = np.linalg.inv(A)\n",
    "AxAinv = np.dot(A, A_inv)\n",
    "identity = np.round(AxAinv)\n",
    "print(\"A*A^-1=\", identity)\n",
    "\n",
    "#2\n",
    "AB = np.dot(A,B)\n",
    "BA = np.dot(B,A)\n",
    "\n",
    "are_equal = np.array_equal(AB, BA)\n",
    "if(are_equal == False):\n",
    "  print(\"AB is not equal to B. Proved\")\n",
    "\n",
    "#3\n",
    "transposeA = np.transpose(A)\n",
    "transposeB = np.transpose(B)\n",
    "bTaT = np.dot(transposeB, transposeA)\n",
    "transpose_AB =  np.transpose(np.dot(A,B))\n",
    "are_equal = np.array_equal(transpose_AB, bTaT)\n",
    "if(are_equal == True):\n",
    "  print(\"(AB)T = B^T.A^T\")\n"
   ]
  },
  {
   "cell_type": "code",
   "execution_count": 21,
   "metadata": {
    "colab": {
     "base_uri": "https://localhost:8080/"
    },
    "id": "CpgYR8pJAhv6",
    "outputId": "e6cb3013-1440-4e88-c16e-cfeaa2b107b8"
   },
   "outputs": [
    {
     "name": "stdout",
     "output_type": "stream",
     "text": [
      "Coefficient matrix (A):\n",
      " [[ 2 -3  1]\n",
      " [ 1 -1  2]\n",
      " [ 3  1 -1]]\n",
      "\n",
      "Constants vector (B):\n",
      " [-1 -3  9]\n",
      "\n",
      "Inverse of A (A_inv):\n",
      " [[ 0.05263158  0.10526316  0.26315789]\n",
      " [-0.36842105  0.26315789  0.15789474]\n",
      " [-0.21052632  0.57894737 -0.05263158]]\n",
      "\n",
      "Solution using A_inv * B (X): [ 2.  1. -2.]\n"
     ]
    }
   ],
   "source": [
    "#4.1\n",
    "#Linear equation using Inverse Methods\n",
    "import numpy as np\n",
    "A = np.array([[2,-3,1], [1,-1,2],[3,1,-1]])\n",
    "B = np.array([-1,-3,9])\n",
    "A_inv = np.linalg.inv(A)\n",
    "X = np.dot(A_inv, B)\n",
    "\n",
    "print(\"Coefficient matrix (A):\\n\", A)\n",
    "print(\"\\nConstants vector (B):\\n\", B)\n",
    "print(\"\\nInverse of A (A_inv):\\n\", A_inv)\n",
    "print(\"\\nSolution using A_inv * B (X):\", X)"
   ]
  },
  {
   "cell_type": "code",
   "execution_count": 46,
   "metadata": {
    "colab": {
     "base_uri": "https://localhost:8080/"
    },
    "id": "Z8MoImI5MS8n",
    "outputId": "e47f89a1-529a-4909-8a02-20ddaa87f72c"
   },
   "outputs": [
    {
     "name": "stdout",
     "output_type": "stream",
     "text": [
      "Time taken for Element-eise Addition using Python lists: 0.09749841690063477 seconds\n"
     ]
    }
   ],
   "source": [
    "#4.2\n",
    "#1.1 Element-wise addition\n",
    "import time\n",
    "\n",
    "size = 1000000\n",
    "list1 = list(range(1, size+ 1))\n",
    "list2 = list(range(1, size+ 1))\n",
    "\n",
    "start_time = time.time()\n",
    "list_sum = [x + y for x, y in zip(list1, list2)]\n",
    "end_time = time.time()\n",
    "\n",
    "time_taken = end_time - start_time\n",
    "\n",
    "print(f\"Time taken for Element-eise Addition using Python lists: {time_taken} seconds\")"
   ]
  },
  {
   "cell_type": "code",
   "execution_count": 39,
   "metadata": {
    "colab": {
     "base_uri": "https://localhost:8080/"
    },
    "id": "bJcPZaoyN95Z",
    "outputId": "fe2a9898-7fe2-4f54-cd31-419db70e5801"
   },
   "outputs": [
    {
     "name": "stdout",
     "output_type": "stream",
     "text": [
      "Time taken for element-wise addition using NumPy arrays: 0.004986 seconds\n"
     ]
    }
   ],
   "source": [
    "#1.2\n",
    "import numpy as np\n",
    "import time\n",
    "\n",
    "size = 1000000\n",
    "arr1 = np.arange(size)\n",
    "arr2 = np.arange(size)\n",
    "\n",
    "#time for numpy arrays\n",
    "start_time = time.time()\n",
    "result_array = arr1 + arr2\n",
    "end_time = time.time()\n",
    "numpy_time = end_time - start_time\n",
    "print(f\"Time taken for Element-wise Addition using NumPy arrays: {numpy_time:.6f} seconds\")\n"
   ]
  },
  {
   "cell_type": "code",
   "execution_count": 47,
   "metadata": {
    "colab": {
     "base_uri": "https://localhost:8080/"
    },
    "id": "eKiTfj63Q3kJ",
    "outputId": "9890d976-0f93-4c21-8710-005ed2c9bf55"
   },
   "outputs": [
    {
     "name": "stdout",
     "output_type": "stream",
     "text": [
      "Element-wise multiplication using python list\n",
      "Time taken using Python lists: 0.09888935089111328 seconds\n",
      "Element-wise multiplication using numpy array\n",
      "Time taken using NumPy arrays: 0.005290985107421875 seconds\n"
     ]
    }
   ],
   "source": [
    "#4.2\n",
    "#2 Element-wise multiplication\n",
    "import numpy as np\n",
    "import time\n",
    "\n",
    "size = 1000000\n",
    "print(\"Element-wise multiplication using python list\")\n",
    "list1 = list(range(1, size + 1))\n",
    "list2 = list(range(1, size + 1))\n",
    "\n",
    "#measuring for python list\n",
    "start_time = time.time()\n",
    "list_multiplication = [x * y for x, y in zip(list1, list2)]\n",
    "end_time = time.time()\n",
    "\n",
    "time_list = end_time - start_time\n",
    "print(\"Time taken using Python lists:\", time_list, \"seconds\")\n",
    "\n",
    "#2.2\n",
    "print(\"Element-wise multiplication using numpy array\")\n",
    "arr1 = np.arange(1, size + 1)\n",
    "arr2 = np.arange(1, size + 1)\n",
    "\n",
    "start_time = time.time()\n",
    "array_multiplication = arr1 * arr2\n",
    "end_time = time.time()\n",
    "\n",
    "time_taken = end_time - start_time\n",
    "\n",
    "print(\"Time taken using NumPy arrays:\", time_taken, \"seconds\")"
   ]
  },
  {
   "cell_type": "code",
   "execution_count": 52,
   "metadata": {
    "colab": {
     "base_uri": "https://localhost:8080/"
    },
    "id": "v9ZDHTwARDou",
    "outputId": "15dd89ca-a2e3-4c62-fd8f-754943e4e7b3"
   },
   "outputs": [
    {
     "name": "stdout",
     "output_type": "stream",
     "text": [
      "Time taken for Python list dot product: 0.123353 seconds\n",
      "Time taken for NumPy array dot product: 0.002342 seconds\n"
     ]
    }
   ],
   "source": [
    "#4.2\n",
    "#3 Dot Product\n",
    "size = 1000000\n",
    "arr1 = np.arange(size)\n",
    "arr2 = np.arange(size)\n",
    "\n",
    "list1 = list(range(1, size + 1))\n",
    "list2 = list(range(1, size + 1))\n",
    "\n",
    "#python lists\n",
    "start_time = time.time()\n",
    "list_multiplication = [x * y for x, y in zip(list1, list2)]\n",
    "time_list = time.time() - start_time\n",
    "print(f\"Time taken for Python list dot product: {time_list:.6f} seconds\")\n",
    "\n",
    "#NumPy Arrays\n",
    "start_time = time.time()\n",
    "dot_product_array = np.dot(arr1, arr2)\n",
    "time_numpy_dot = time.time() - start_time\n",
    "print(f\"Time taken for NumPy array dot product: {time_numpy_dot:.6f} seconds\")\n"
   ]
  },
  {
   "cell_type": "code",
   "execution_count": 75,
   "metadata": {
    "colab": {
     "base_uri": "https://localhost:8080/"
    },
    "id": "ndwfwD8dZ8d0",
    "outputId": "7b89a866-862e-453e-9270-431f59d2e448"
   },
   "outputs": [
    {
     "name": "stdout",
     "output_type": "stream",
     "text": [
      "Time taken for Python list matrix multiplication: 0.67363 seconds\n",
      "Time taken for NumPy array matrix multiplication: 5.87985 seconds\n"
     ]
    }
   ],
   "source": [
    "#4.2\n",
    "#4 Matrix Multiplication\n",
    "\n",
    "import numpy as np\n",
    "import time\n",
    "\n",
    "# Using Python Lists\n",
    "matrix1 = [[i for i in range(1000)] for _ in range(1000)]\n",
    "matrix2 = [[i for i in range(1000)] for _ in range(1000)]\n",
    "\n",
    "start_time = time.time()\n",
    "result_matrix = []\n",
    "for row in matrix1:\n",
    "    result_row = []\n",
    "    for col_idx in range(len(matrix2[0])):\n",
    "        product_sum = 0\n",
    "    for i in range(len(row)):\n",
    "        product_sum += row[i] * matrix2[i][col_idx]\n",
    "        result_row.append(product_sum)\n",
    "    result_matrix.append(result_row)\n",
    "time_list_matrix_mult = time.time() - start_time\n",
    "print(f\"Time taken for Python list matrix multiplication: {time_list_matrix_mult:.5f} seconds\")\n",
    "\n",
    "# Using NumPy Arrays\n",
    "matrix1_np = np.array(matrix1)\n",
    "matrix2_np = np.array(matrix2)\n",
    "\n",
    "start_time = time.time()\n",
    "result_matrix_np = np.matmul(matrix1_np, matrix2_np)\n",
    "time_numpy_matrix_mult = time.time() - start_time\n",
    "print(f\"Time taken for NumPy array matrix multiplication: {time_numpy_matrix_mult:.5f} seconds\")\n"
   ]
  },
  {
   "cell_type": "code",
   "execution_count": null,
   "metadata": {
    "id": "aj8o4-3uaT1W"
   },
   "outputs": [],
   "source": []
  },
  {
   "cell_type": "code",
   "execution_count": null,
   "metadata": {
    "colab": {
     "base_uri": "https://localhost:8080/"
    },
    "id": "rWJQOirIWPTC",
    "outputId": "09f860de-66a4-422f-ce8e-a2ab59faf2b5"
   },
   "outputs": [
    {
     "name": "stdout",
     "output_type": "stream",
     "text": [
      "Array:\n",
      "5\n",
      "Dimension: 0\n",
      "Data type: int64\n",
      "\n",
      "Array:\n",
      "[1 2 3]\n",
      "Dimension: 1\n",
      "Data type: int64\n",
      "\n",
      "Array:\n",
      "[[1 2]\n",
      " [3 4]]\n",
      "Dimension: 2\n",
      "Data type: int64\n",
      "\n"
     ]
    }
   ],
   "source": [
    "#Examples\n",
    "#importing numpy and array type\n",
    "import numpy as np\n",
    "# Create and display zero, one, and n-dimensional arrays\n",
    "zero_dim_array = np.array(5)\n",
    "one_dim_array = np.array([1, 2, 3])\n",
    "n_dim_array = np.array([[1, 2], [3, 4]])\n",
    "for arr in [zero_dim_array, one_dim_array, n_dim_array]:\n",
    "  print(f\"Array:\\n{arr}\\nDimension: {arr.ndim}\\nData type: {arr.dtype}\\n\")"
   ]
  },
  {
   "cell_type": "code",
   "execution_count": null,
   "metadata": {
    "colab": {
     "base_uri": "https://localhost:8080/"
    },
    "id": "p1f0NAOKWaen",
    "outputId": "d65ebd3e-fc0d-4e81-f2ad-f1bcc596d978"
   },
   "outputs": [
    {
     "name": "stdout",
     "output_type": "stream",
     "text": [
      "0D Array:\n",
      "5\n",
      "Shape: ()\n",
      "\n",
      "1D Array:\n",
      "[1 2 3 4 5]\n",
      "Shape: (5,)\n",
      "\n",
      "2D Array:\n",
      "[[1 2 3]\n",
      " [4 5 6]]\n",
      "Shape: (2, 3)\n",
      "\n",
      "3D Array:\n",
      "[[[1 2]\n",
      "  [3 4]]\n",
      "\n",
      " [[5 6]\n",
      "  [7 8]]]\n",
      "Shape: (2, 2, 2)\n",
      "\n"
     ]
    }
   ],
   "source": [
    "#shape of an array\n",
    "#create arrays of different dimensions\n",
    "array_0d = np.array(5)\n",
    "array_1d = np.array([1,2,3,4,5])\n",
    "array_2d = np.array([[1,2,3], [4,5,6]])\n",
    "array_3d = np.array([[[1,2], [3,4]],[[5,6],[7,8]]])\n",
    "#print arrays with shapes\n",
    "for i, arr in enumerate([array_0d, array_1d, array_2d, array_3d]):\n",
    "  print(f\"{i}D Array:\\n{arr}\\nShape: {arr.shape}\\n\")"
   ]
  },
  {
   "cell_type": "code",
   "execution_count": null,
   "metadata": {
    "colab": {
     "base_uri": "https://localhost:8080/"
    },
    "id": "zpyZAysTYp37",
    "outputId": "16953c29-f18d-4965-d302-b8768d776106"
   },
   "outputs": [
    {
     "name": "stdout",
     "output_type": "stream",
     "text": [
      "Original Shape: (2, 4) \n",
      "Reshaped Shape: (4, 2)\n"
     ]
    }
   ],
   "source": [
    "#Reshaping an array\n",
    "import numpy as np\n",
    "array = np.array([[1,2,3,4], [4,5,6,7]]) #shape(2,3)\n",
    "reshaped_array = array.reshape(4,2) #6 elements reshape it to (3,2)\n",
    "print(\"Original Shape:\", array.shape, \"\\nReshaped Shape:\", reshaped_array.shape)"
   ]
  },
  {
   "cell_type": "code",
   "execution_count": null,
   "metadata": {
    "colab": {
     "base_uri": "https://localhost:8080/"
    },
    "id": "YZnbvMnHavWN",
    "outputId": "4c05f4f0-99e2-4e4d-f245-c86a9bb896d9"
   },
   "outputs": [
    {
     "name": "stdout",
     "output_type": "stream",
     "text": [
      "[1 2 3 4 5 6 7 8 9]\n",
      "range(1, 10)\n",
      "[1, 2, 3, 4, 5, 6, 7, 8, 9]\n",
      "[ 0.  1.  2.  3.  4.  5.  6.  7.  8.  9. 10.]\n",
      "[ 0.5  1.3  2.1  2.9  3.7  4.5  5.3  6.1  6.9  7.7  8.5  9.3 10.1]\n"
     ]
    }
   ],
   "source": [
    "#arrays with evenly spaced values -> arange\n",
    "import numpy as np\n",
    "a = np.arange(1, 10) #returns numpy array instead of list\n",
    "print(a)\n",
    "x = range(1, 10)\n",
    "print(x)\n",
    "print(list(x))\n",
    "\n",
    "x = np.arange(10.4)\n",
    "print(x)\n",
    "\n",
    "x = np.arange(0.5, 10.4, 0.8)\n",
    "print(x)"
   ]
  },
  {
   "cell_type": "code",
   "execution_count": null,
   "metadata": {
    "colab": {
     "base_uri": "https://localhost:8080/"
    },
    "id": "3tGApnxvcERA",
    "outputId": "2cc88cce-6c07-4ca6-c1d3-580049b3870c"
   },
   "outputs": [
    {
     "name": "stdout",
     "output_type": "stream",
     "text": [
      "[ 1.          1.18367347  1.36734694  1.55102041  1.73469388  1.91836735\n",
      "  2.10204082  2.28571429  2.46938776  2.65306122  2.83673469  3.02040816\n",
      "  3.20408163  3.3877551   3.57142857  3.75510204  3.93877551  4.12244898\n",
      "  4.30612245  4.48979592  4.67346939  4.85714286  5.04081633  5.2244898\n",
      "  5.40816327  5.59183673  5.7755102   5.95918367  6.14285714  6.32653061\n",
      "  6.51020408  6.69387755  6.87755102  7.06122449  7.24489796  7.42857143\n",
      "  7.6122449   7.79591837  7.97959184  8.16326531  8.34693878  8.53061224\n",
      "  8.71428571  8.89795918  9.08163265  9.26530612  9.44897959  9.63265306\n",
      "  9.81632653 10.        ]\n",
      "[ 1.   2.5  4.   5.5  7.   8.5 10. ]\n",
      "[1.  2.8 4.6 6.4 8.2]\n"
     ]
    }
   ],
   "source": [
    "#linspace defines the nummber of steps\n",
    "print(np.linspace(1,10))\n",
    "print(np.linspace(1, 10, 7))\n",
    "print(np.linspace(1, 10, 5, endpoint=False))\n",
    "\n",
    "#endpooint default true\n",
    "#linspace ko step default 50 uuntil specified"
   ]
  },
  {
   "cell_type": "code",
   "execution_count": null,
   "metadata": {
    "colab": {
     "base_uri": "https://localhost:8080/"
    },
    "id": "6Tn2NU7gePbU",
    "outputId": "ecf13095-e421-4f4a-eb8d-258bd908e702"
   },
   "outputs": [
    {
     "name": "stdout",
     "output_type": "stream",
     "text": [
      "[[1. 0. 0.]\n",
      " [0. 1. 0.]\n",
      " [0. 0. 1.]]\n",
      "\n",
      "[[1. 1. 1.]\n",
      " [1. 1. 1.]]\n",
      "\n",
      "[[0. 0.]\n",
      " [0. 0.]\n",
      " [0. 0.]]\n"
     ]
    }
   ],
   "source": [
    "#initializing an array\n",
    "import numpy as np\n",
    "ones_array = np.ones((2,3))\n",
    "zeros_array = np.zeros((3, 2))\n",
    "\n",
    "identity_matrix = np.eye(3)  #creates 3x3 array\n",
    "print(identity_matrix, ones_array, zeros_array, sep='\\n\\n')"
   ]
  },
  {
   "cell_type": "code",
   "execution_count": null,
   "metadata": {
    "colab": {
     "base_uri": "https://localhost:8080/"
    },
    "id": "r3Q6I-d5k7T_",
    "outputId": "f7259c1f-9e3c-40a7-c338-43a7a2559820"
   },
   "outputs": [
    {
     "data": {
      "text/plain": [
       "array([[4.86182538e-310, 0.00000000e+000],\n",
       "       [0.00000000e+000, 0.00000000e+000]])"
      ]
     },
     "execution_count": 1,
     "metadata": {},
     "output_type": "execute_result"
    }
   ],
   "source": [
    "import numpy as np\n",
    "empty_array = np.empty((2, 2))\n",
    "empty_array"
   ]
  },
  {
   "cell_type": "code",
   "execution_count": null,
   "metadata": {
    "colab": {
     "base_uri": "https://localhost:8080/"
    },
    "id": "OGNF7y-if1cf",
    "outputId": "63baa017-e74f-4881-b6f1-98844a1fd07e"
   },
   "outputs": [
    {
     "name": "stdout",
     "output_type": "stream",
     "text": [
      "[1 2 3]\n",
      "[5 6 7]\n",
      "[[1 2 3]\n",
      " [4 5 6]]\n"
     ]
    }
   ],
   "source": [
    "#converting list to array using np.array\n",
    "array_list = np.array([1,2,3])\n",
    "array_tuple = np.array((5,6,7))\n",
    "array_nestedList = np.array([[1,2,3], [4,5,6]])\n",
    "print(array_list, array_tuple, array_nestedList, sep='\\n')\n"
   ]
  },
  {
   "cell_type": "code",
   "execution_count": null,
   "metadata": {
    "colab": {
     "base_uri": "https://localhost:8080/"
    },
    "id": "QG-1AQ4XjgFq",
    "outputId": "5fb7aff6-9a8b-4d9b-858b-ae3fcc56aad6"
   },
   "outputs": [
    {
     "name": "stdout",
     "output_type": "stream",
     "text": [
      "[[1 2 3]\n",
      " [4 5 6]]\n",
      "[[0. 0. 0.]\n",
      " [0. 0. 0.]]\n",
      "[[1. 1. 1.]\n",
      " [1. 1. 1.]]\n",
      "[[4.86182545e-310 0.00000000e+000 6.67011755e-310]\n",
      " [6.67011740e-310 6.67011740e-310 6.67011740e-310]]\n"
     ]
    }
   ],
   "source": [
    "#Using shape of an existing array\n",
    "import numpy as np\n",
    "arr = np.array([[1,2,3], [4,5,6]])\n",
    "zeros, ones, empty = np.zeros(arr.shape), np.ones(arr.shape), np.empty(arr.shape)\n",
    "print(arr, zeros, ones, empty, sep='\\n')"
   ]
  },
  {
   "cell_type": "code",
   "execution_count": null,
   "metadata": {
    "id": "PE2ioh-Kl6wp"
   },
   "outputs": [],
   "source": []
  },
  {
   "cell_type": "code",
   "execution_count": null,
   "metadata": {
    "colab": {
     "base_uri": "https://localhost:8080/"
    },
    "id": "VHIwko64mU1B",
    "outputId": "1a2aa803-5e7d-4c74-918f-1216d1fe165d"
   },
   "outputs": [
    {
     "data": {
      "text/plain": [
       "array([[4.86182494e-310, 0.00000000e+000],\n",
       "       [1.22568369e+213, 1.22776923e+213]])"
      ]
     },
     "execution_count": 7,
     "metadata": {},
     "output_type": "execute_result"
    }
   ],
   "source": [
    "import numpy as np\n",
    "arr= np.empty((2,2))\n",
    "arr"
   ]
  },
  {
   "cell_type": "code",
   "execution_count": null,
   "metadata": {
    "colab": {
     "base_uri": "https://localhost:8080/"
    },
    "id": "kGwVDI9Omoys",
    "outputId": "3b9125a4-151b-48b6-d0fd-347237bb2bf1"
   },
   "outputs": [
    {
     "data": {
      "text/plain": [
       "array([[1., 1.],\n",
       "       [1., 1.],\n",
       "       [1., 1.],\n",
       "       [1., 1.]])"
      ]
     },
     "execution_count": 8,
     "metadata": {},
     "output_type": "execute_result"
    }
   ],
   "source": [
    "all_one = np.ones((4,2))\n",
    "all_one"
   ]
  },
  {
   "cell_type": "code",
   "execution_count": 48,
   "metadata": {
    "colab": {
     "base_uri": "https://localhost:8080/"
    },
    "id": "54TqnRrumzuM",
    "outputId": "d23f0b6b-8aa1-424a-9066-35910dd0bbbf"
   },
   "outputs": [
    {
     "name": "stdout",
     "output_type": "stream",
     "text": [
      "Result with @ operator:\n",
      " [[ 58  64]\n",
      " [139 154]]\n",
      "Result with np.matmul:\n",
      " [[ 58  64]\n",
      " [139 154]]\n"
     ]
    }
   ],
   "source": [
    "import numpy as np\n",
    "# Define two matrices\n",
    "A = np.array([[1, 2, 3], [4, 5, 6]])\n",
    "B = np.array([[7, 8], [9, 10], [11, 12]])\n",
    "# Matrix multiplication using @ operator\n",
    "result_at = A @ B\n",
    "print(\"Result with @ operator:\\n\", result_at) # Output shape: (2, 2)\n",
    "# Matrix multiplication using np.matmul\n",
    "result_matmul = np.matmul(A, B)\n",
    "print(\"Result with np.matmul:\\n\", result_matmul) # Output shape: (2, 2)"
   ]
  },
  {
   "cell_type": "code",
   "execution_count": null,
   "metadata": {
    "id": "jHn1LSrbnaPX"
   },
   "outputs": [],
   "source": []
  }
 ],
 "metadata": {
  "colab": {
   "provenance": []
  },
  "kernelspec": {
   "display_name": "Python 3",
   "name": "python3"
  },
  "language_info": {
   "name": "python"
  }
 },
 "nbformat": 4,
 "nbformat_minor": 0
}
