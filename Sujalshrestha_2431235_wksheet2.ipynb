{
  "cells": [
    {
      "cell_type": "markdown",
      "metadata": {
        "id": "view-in-github",
        "colab_type": "text"
      },
      "source": [
        "<a href=\"https://colab.research.google.com/github/sujalshrstha/aiwroksheet/blob/main/Sujalshrestha_2431235_wksheet2.ipynb\" target=\"_parent\"><img src=\"https://colab.research.google.com/assets/colab-badge.svg\" alt=\"Open In Colab\"/></a>"
      ]
    },
    {
      "cell_type": "code",
      "execution_count": 21,
      "id": "8a59dafa-586d-4657-8df5-0764ae014934",
      "metadata": {
        "id": "8a59dafa-586d-4657-8df5-0764ae014934",
        "outputId": "b2bca5af-e690-420a-af07-7abd27adb0aa",
        "colab": {
          "base_uri": "https://localhost:8080/"
        }
      },
      "outputs": [
        {
          "output_type": "stream",
          "name": "stdout",
          "text": [
            "Dataset loaded successfully.\n",
            "\n",
            "DataFrame Information:\n",
            "<class 'pandas.core.frame.DataFrame'>\n",
            "RangeIndex: 45211 entries, 0 to 45210\n",
            "Data columns (total 17 columns):\n",
            " #   Column     Non-Null Count  Dtype \n",
            "---  ------     --------------  ----- \n",
            " 0   age        45211 non-null  int64 \n",
            " 1   job        45211 non-null  object\n",
            " 2   marital    45211 non-null  object\n",
            " 3   education  45211 non-null  object\n",
            " 4   default    45211 non-null  object\n",
            " 5   balance    45211 non-null  int64 \n",
            " 6   housing    45211 non-null  object\n",
            " 7   loan       45211 non-null  object\n",
            " 8   contact    45211 non-null  object\n",
            " 9   day        45211 non-null  int64 \n",
            " 10  month      45211 non-null  object\n",
            " 11  duration   45211 non-null  int64 \n",
            " 12  campaign   45211 non-null  int64 \n",
            " 13  pdays      45211 non-null  int64 \n",
            " 14  previous   45211 non-null  int64 \n",
            " 15  poutcome   45211 non-null  object\n",
            " 16  y          45211 non-null  object\n",
            "dtypes: int64(7), object(10)\n",
            "memory usage: 5.9+ MB\n",
            "None\n",
            "\n",
            "Columns with dtype=object:\n",
            " ['job', 'marital', 'education', 'default', 'housing', 'loan', 'contact', 'month', 'poutcome', 'y']\n",
            "\n",
            "Unique values for object dtype columns:\n",
            "\n",
            "job: ['management' 'technician' 'entrepreneur' 'blue-collar' 'unknown'\n",
            " 'retired' 'admin.' 'services' 'self-employed' 'unemployed' 'housemaid'\n",
            " 'student']\n",
            "\n",
            "marital: ['married' 'single' 'divorced']\n",
            "\n",
            "education: ['tertiary' 'secondary' 'unknown' 'primary']\n",
            "\n",
            "default: ['no' 'yes']\n",
            "\n",
            "housing: ['yes' 'no']\n",
            "\n",
            "loan: ['no' 'yes']\n",
            "\n",
            "contact: ['unknown' 'cellular' 'telephone']\n",
            "\n",
            "month: ['may' 'jun' 'jul' 'aug' 'oct' 'nov' 'dec' 'jan' 'feb' 'mar' 'apr' 'sep']\n",
            "\n",
            "poutcome: ['unknown' 'failure' 'other' 'success']\n",
            "\n",
            "y: ['no' 'yes']\n",
            "\n",
            "\n",
            "Null values in each column:\n",
            "\n",
            "age          0\n",
            "job          0\n",
            "marital      0\n",
            "education    0\n",
            "default      0\n",
            "balance      0\n",
            "housing      0\n",
            "loan         0\n",
            "contact      0\n",
            "day          0\n",
            "month        0\n",
            "duration     0\n",
            "campaign     0\n",
            "pdays        0\n",
            "previous     0\n",
            "poutcome     0\n",
            "y            0\n",
            "dtype: int64\n",
            "\n",
            "Numeric data saved to 'banknumericdata.csv'.\n",
            "\n",
            "\n",
            "Summary statistics:\n",
            "\n",
            "                age        balance           day      duration      campaign  \\\n",
            "count  45211.000000   45211.000000  45211.000000  45211.000000  45211.000000   \n",
            "mean      40.936210    1362.272058     15.806419    258.163080      2.763841   \n",
            "std       10.618762    3044.765829      8.322476    257.527812      3.098021   \n",
            "min       18.000000   -8019.000000      1.000000      0.000000      1.000000   \n",
            "25%       33.000000      72.000000      8.000000    103.000000      1.000000   \n",
            "50%       39.000000     448.000000     16.000000    180.000000      2.000000   \n",
            "75%       48.000000    1428.000000     21.000000    319.000000      3.000000   \n",
            "max       95.000000  102127.000000     31.000000   4918.000000     63.000000   \n",
            "\n",
            "              pdays      previous  \n",
            "count  45211.000000  45211.000000  \n",
            "mean      40.197828      0.580323  \n",
            "std      100.128746      2.303441  \n",
            "min       -1.000000      0.000000  \n",
            "25%       -1.000000      0.000000  \n",
            "50%       -1.000000      0.000000  \n",
            "75%       -1.000000      0.000000  \n",
            "max      871.000000    275.000000  \n"
          ]
        }
      ],
      "source": [
        "# 3.1 Problem 1. Data Read, Write and Inspect:\n",
        "# Complete the following task:\n",
        "# - Dataset for the task: \"bank.csv\"\n",
        "\n",
        "import pandas as pd\n",
        "\n",
        "# Step 1: Load the dataset\n",
        "df = pd.read_csv('/content/drive/MyDrive/data set /bank .csv')\n",
        "print(\"Dataset loaded successfully.\\n\")\n",
        "\n",
        "# Step 2: Inspect the DataFrame\n",
        "print(\"DataFrame Information:\")\n",
        "print(df.info())\n",
        "\n",
        "# (a) Identify columns with dtype=object\n",
        "object_columns = df.select_dtypes(include=['object']).columns\n",
        "print(f\"\\nColumns with dtype=object:\\n {list(object_columns)}\\n\")\n",
        "\n",
        "# (b) Find unique values of object dtype columns\n",
        "unique_values = {col: df[col].unique() for col in object_columns}\n",
        "print(\"Unique values for object dtype columns:\\n\")\n",
        "for col, values in unique_values.items():\n",
        "    print(f\"{col}: {values}\\n\")\n",
        "\n",
        "# (c) Count null values in each column\n",
        "null_values = df.isnull().sum()\n",
        "print(\"\\nNull values in each column:\\n\")\n",
        "print(null_values)\n",
        "\n",
        "# Step 3: Drop dtype=object columns and save the result\n",
        "df_numeric = df.drop(columns=object_columns)\n",
        "df_numeric.to_csv('banknumericdata.csv', index=False)\n",
        "print(\"\\nNumeric data saved to 'banknumericdata.csv'.\\n\")\n",
        "\n",
        "# Step 4: Load the numeric data and calculate summary statistics\n",
        "df_numeric_read = pd.read_csv('banknumericdata.csv')\n",
        "summary = df_numeric_read.describe()\n",
        "print(\"\\nSummary statistics:\\n\")\n",
        "print(summary)\n"
      ]
    },
    {
      "cell_type": "code",
      "source": [
        "from google.colab import drive\n",
        "drive.mount('/content/drive')"
      ],
      "metadata": {
        "colab": {
          "base_uri": "https://localhost:8080/"
        },
        "id": "Pf6-_UOvvhQK",
        "outputId": "6557decd-8b72-4abd-e76f-43b5de6d50de"
      },
      "id": "Pf6-_UOvvhQK",
      "execution_count": 12,
      "outputs": [
        {
          "output_type": "stream",
          "name": "stdout",
          "text": [
            "Mounted at /content/drive\n"
          ]
        }
      ]
    },
    {
      "cell_type": "code",
      "execution_count": 22,
      "id": "d7e3449a-df7d-4a5d-aeec-43a9b8f9ac23",
      "metadata": {
        "id": "d7e3449a-df7d-4a5d-aeec-43a9b8f9ac23",
        "outputId": "e7407e2a-3f9d-4dc1-a140-75acf07742c4",
        "colab": {
          "base_uri": "https://localhost:8080/"
        }
      },
      "outputs": [
        {
          "output_type": "stream",
          "name": "stdout",
          "text": [
            "\n",
            "Dataset loaded successfully.\n",
            "\n",
            "DataFrame Info:\n",
            "\n",
            "<class 'pandas.core.frame.DataFrame'>\n",
            "RangeIndex: 200000 entries, 0 to 199999\n",
            "Data columns (total 13 columns):\n",
            " #   Column          Non-Null Count   Dtype  \n",
            "---  ------          --------------   -----  \n",
            " 0   Student ID      180000 non-null  float64\n",
            " 1   Age             180000 non-null  float64\n",
            " 2   Gender          180000 non-null  object \n",
            " 3   Height          180000 non-null  float64\n",
            " 4   Weight          180000 non-null  float64\n",
            " 5   Blood Type      180000 non-null  object \n",
            " 6   BMI             180000 non-null  float64\n",
            " 7   Temperature     180000 non-null  float64\n",
            " 8   Heart Rate      180000 non-null  float64\n",
            " 9   Blood Pressure  180000 non-null  float64\n",
            " 10  Cholesterol     180000 non-null  float64\n",
            " 11  Diabetes        180000 non-null  object \n",
            " 12  Smoking         180000 non-null  object \n",
            "dtypes: float64(9), object(4)\n",
            "memory usage: 19.8+ MB\n",
            "None\n",
            "\n",
            "Missing values in each column:\n",
            "\n",
            "Student ID        20000\n",
            "Age               20000\n",
            "Gender            20000\n",
            "Height            20000\n",
            "Weight            20000\n",
            "Blood Type        20000\n",
            "BMI               20000\n",
            "Temperature       20000\n",
            "Heart Rate        20000\n",
            "Blood Pressure    20000\n",
            "Cholesterol       20000\n",
            "Diabetes          20000\n",
            "Smoking           20000\n",
            "dtype: int64\n",
            "\n",
            "Filling missing values:\n",
            "\n",
            "Filled missing values in 'Student ID' with the average value.\n",
            "Filled missing values in 'Age' with the average value.\n",
            "Filled missing values in 'Gender' with the most common value.\n",
            "Filled missing values in 'Height' with the average value.\n",
            "Filled missing values in 'Weight' with the average value.\n",
            "Filled missing values in 'Blood Type' with the most common value.\n",
            "Filled missing values in 'BMI' with the average value.\n",
            "Filled missing values in 'Temperature' with the average value.\n",
            "Filled missing values in 'Heart Rate' with the average value.\n",
            "Filled missing values in 'Blood Pressure' with the average value.\n",
            "Filled missing values in 'Cholesterol' with the average value.\n",
            "Filled missing values in 'Diabetes' with the most common value.\n",
            "Filled missing values in 'Smoking' with the most common value.\n",
            "\n",
            "Checking for duplicate rows...\n",
            "Number of duplicate rows: 12572\n",
            "Duplicate rows dropped.\n",
            "\n",
            "Final DataFrame Info:\n",
            "<class 'pandas.core.frame.DataFrame'>\n",
            "Index: 187428 entries, 0 to 199999\n",
            "Data columns (total 13 columns):\n",
            " #   Column          Non-Null Count   Dtype  \n",
            "---  ------          --------------   -----  \n",
            " 0   Student ID      187428 non-null  float64\n",
            " 1   Age             187428 non-null  float64\n",
            " 2   Gender          187428 non-null  object \n",
            " 3   Height          187428 non-null  float64\n",
            " 4   Weight          187428 non-null  float64\n",
            " 5   Blood Type      187428 non-null  object \n",
            " 6   BMI             187428 non-null  float64\n",
            " 7   Temperature     187428 non-null  float64\n",
            " 8   Heart Rate      187428 non-null  float64\n",
            " 9   Blood Pressure  187428 non-null  float64\n",
            " 10  Cholesterol     187428 non-null  float64\n",
            " 11  Diabetes        187428 non-null  object \n",
            " 12  Smoking         187428 non-null  object \n",
            "dtypes: float64(9), object(4)\n",
            "memory usage: 20.0+ MB\n",
            "None\n",
            "\n",
            "Summary of cleaned data:\n",
            "           Student ID            Age  Gender         Height         Weight  \\\n",
            "count   187428.000000  187428.000000  187428  187428.000000  187428.000000   \n",
            "unique            NaN            NaN       2            NaN            NaN   \n",
            "top               NaN            NaN    Male            NaN            NaN   \n",
            "freq              NaN            NaN  103008            NaN            NaN   \n",
            "mean     49990.270935      26.023846     NaN     174.946910      69.976980   \n",
            "std      27316.805105       4.626296     NaN      13.667692      16.383550   \n",
            "min          1.000000      18.000000     NaN     150.000041      40.000578   \n",
            "25%      27909.750000      22.000000     NaN     163.951959      56.724491   \n",
            "50%      49974.042078      26.021561     NaN     174.947103      69.971585   \n",
            "75%      72084.250000      30.000000     NaN     185.979874      83.207904   \n",
            "max     100000.000000      34.000000     NaN     199.998639      99.999907   \n",
            "\n",
            "       Blood Type            BMI    Temperature     Heart Rate  \\\n",
            "count      187428  187428.000000  187428.000000  187428.000000   \n",
            "unique          4            NaN            NaN            NaN   \n",
            "top             B            NaN            NaN            NaN   \n",
            "freq        61755            NaN            NaN            NaN   \n",
            "mean          NaN      23.340911      98.601323      79.504867   \n",
            "std           NaN       6.652469       0.472949      10.917772   \n",
            "min           NaN      10.074837      96.397835      60.000000   \n",
            "25%           NaN      18.424957      98.309769      71.000000   \n",
            "50%           NaN      23.338869      98.600948      79.503767   \n",
            "75%           NaN      27.221335      98.894013      88.000000   \n",
            "max           NaN      44.355113     100.824857      99.000000   \n",
            "\n",
            "        Blood Pressure    Cholesterol Diabetes Smoking  \n",
            "count    187428.000000  187428.000000   187428  187428  \n",
            "unique             NaN            NaN        2       2  \n",
            "top                NaN            NaN       No      No  \n",
            "freq               NaN            NaN   170440  153467  \n",
            "mean        114.566637     184.494824      NaN     NaN  \n",
            "std          13.623029      35.504735      NaN     NaN  \n",
            "min          90.000000     120.000000      NaN     NaN  \n",
            "25%         104.000000     156.000000      NaN     NaN  \n",
            "50%         114.558033     184.486361      NaN     NaN  \n",
            "75%         126.000000     213.000000      NaN     NaN  \n",
            "max         139.000000     249.000000      NaN     NaN  \n"
          ]
        }
      ],
      "source": [
        "# 3.1 Problem 2. Data Imputations:\n",
        "# Complete all the following Task:\n",
        "\n",
        "import pandas as pd\n",
        "\n",
        "# Step 1: Load the dataset\n",
        "df = pd.read_csv('/content/drive/MyDrive/data set /medical_students_dataset.csv')\n",
        "print(\"\\nDataset loaded successfully.\\n\")\n",
        "\n",
        "# Step 2: Check DataFrame info and identify columns with missing values\n",
        "print(\"DataFrame Info:\\n\")\n",
        "print(df.info())\n",
        "\n",
        "# Identify columns with missing values\n",
        "missing_values = df.isnull().sum()\n",
        "print(\"\\nMissing values in each column:\\n\")\n",
        "print(missing_values[missing_values > 0])\n",
        "\n",
        "# Step 3: Handle missing values\n",
        "print(\"\\nFilling missing values:\\n\")\n",
        "for column in missing_values[missing_values > 0].index:\n",
        "    if df[column].dtype in ['float64', 'int64']:\n",
        "        # Numeric columns: Fill with mean value\n",
        "        df[column] = df[column].fillna(df[column].mean())\n",
        "        print(f\"Filled missing values in '{column}' with the average value.\")\n",
        "    elif df[column].dtype == 'object':\n",
        "        # Categorical columns: Fill with mode\n",
        "        df[column] = df[column].fillna(df[column].mode()[0])\n",
        "        print(f\"Filled missing values in '{column}' with the most common value.\")\n",
        "\n",
        "# Step 4: Check and handle duplicate rows\n",
        "print(\"\\nChecking for duplicate rows...\")\n",
        "duplicates_count = df.duplicated().sum()\n",
        "print(f\"Number of duplicate rows: {duplicates_count}\")\n",
        "\n",
        "if duplicates_count > 0:\n",
        "    df = df.drop_duplicates()\n",
        "    print(\"Duplicate rows dropped.\")\n",
        "\n",
        "# Step 5: Final output\n",
        "print(\"\\nFinal DataFrame Info:\")\n",
        "print(df.info())\n",
        "\n",
        "# Summary\n",
        "print(\"\\nSummary of cleaned data:\")\n",
        "print(df.describe(include='all'))\n",
        "\n",
        "\n"
      ]
    },
    {
      "cell_type": "code",
      "execution_count": null,
      "id": "ece49086-242f-4c3b-ae2a-9ab5dadcfc29",
      "metadata": {
        "id": "ece49086-242f-4c3b-ae2a-9ab5dadcfc29",
        "outputId": "6811c4d4-9df8-4dda-d3ad-f6737e780959"
      },
      "outputs": [
        {
          "name": "stdout",
          "output_type": "stream",
          "text": [
            "Problem 1:\n",
            "\n",
            "Mean Fare: 84.1546875\n",
            "Median Fare: 60.287499999999994\n",
            "Maximum Fare: 512.3292\n",
            "Minimum Fare: 0.0\n",
            "\n",
            "Problem 2:\n",
            "\n",
            "Number of null values in 'Age' column: 30\n",
            "Number of null values in 'Age' column after dropping: 0\n"
          ]
        }
      ],
      "source": [
        "# 3.2 Problem 1. Create a DataFrame that is subsetted for the columns ’Name’, ’Pclass’, ’Sex’, ’Age’, ’Fare’, and ’Survived’.\n",
        "# Retain only those rows where ’Pclass’ is equal to 1, representing first-class passengers. What is the mean,\n",
        "# median, maximum value, and minimum value of the ’Fare’ column?\n",
        "\n",
        "df = pd.read_csv('Titanic-Dataset.csv')\n",
        "\n",
        "# Subsetted dataframe\n",
        "subset_df = df[['Name', 'Pclass', 'Sex', 'Age', 'Fare', 'Survived']]\n",
        "\n",
        "# filter rows where Pclass is 1.\n",
        "first_class_df = subset_df[subset_df['Pclass'] == 1]\n",
        "\n",
        "# Calculate the mean, median, max, and min of the 'Fare' column\n",
        "mean_fare = first_class_df['Fare'].mean()\n",
        "median_fare = first_class_df['Fare'].median()\n",
        "max_fare = first_class_df['Fare'].max()\n",
        "min_fare = first_class_df['Fare'].min()\n",
        "\n",
        "# Print the results\n",
        "print(\"Problem 1:\\n\")\n",
        "print(f\"Mean Fare: {mean_fare}\")\n",
        "print(f\"Median Fare: {median_fare}\")\n",
        "print(f\"Maximum Fare: {max_fare}\")\n",
        "print(f\"Minimum Fare: {min_fare}\")\n",
        "\n",
        "# 3.2 Problem 2. How many null values are contained in the ’Age’ column in your subsetted DataFrame?\n",
        "# Once you’ve found this out, drop them from your DataFrame.\n",
        "print(\"\\nProblem 2:\\n\")\n",
        "# Count the number of null values in the 'Age' column\n",
        "null_age_count = first_class_df['Age'].isnull().sum()\n",
        "print(f\"Number of null values in 'Age' column: {null_age_count}\")\n",
        "\n",
        "# Drop the rows where 'Age' is null\n",
        "first_class_df_cleaned = first_class_df.dropna(subset=['Age'])\n",
        "\n",
        "# Verify that null values are dropped\n",
        "null_age_count_after_drop = first_class_df_cleaned['Age'].isnull().sum()\n",
        "print(f\"Number of null values in 'Age' column after dropping: {null_age_count_after_drop}\")"
      ]
    },
    {
      "cell_type": "code",
      "execution_count": 23,
      "id": "9d10ee90-79a9-4c00-91ad-ea1db4c4b361",
      "metadata": {
        "id": "9d10ee90-79a9-4c00-91ad-ea1db4c4b361",
        "outputId": "12a6780a-05e8-457e-e139-b0753d964392",
        "colab": {
          "base_uri": "https://localhost:8080/"
        }
      },
      "outputs": [
        {
          "output_type": "stream",
          "name": "stdout",
          "text": [
            "   PassengerId  Survived  Pclass  \\\n",
            "0            1         0       3   \n",
            "1            2         1       1   \n",
            "2            3         1       3   \n",
            "3            4         1       1   \n",
            "4            5         0       3   \n",
            "\n",
            "                                                Name     Sex   Age  SibSp  \\\n",
            "0                            Braund, Mr. Owen Harris    male  22.0      1   \n",
            "1  Cumings, Mrs. John Bradley (Florence Briggs Th...  female  38.0      1   \n",
            "2                             Heikkinen, Miss. Laina  female  26.0      0   \n",
            "3       Futrelle, Mrs. Jacques Heath (Lily May Peel)  female  35.0      1   \n",
            "4                           Allen, Mr. William Henry    male  35.0      0   \n",
            "\n",
            "   Parch            Ticket     Fare Cabin  Embarked_C  Embarked_Q  Embarked_S  \n",
            "0      0         A/5 21171   7.2500   NaN       False       False        True  \n",
            "1      0          PC 17599  71.2833   C85        True       False       False  \n",
            "2      0  STON/O2. 3101282   7.9250   NaN       False       False        True  \n",
            "3      0            113803  53.1000  C123       False       False        True  \n",
            "4      0            373450   8.0500   NaN       False       False        True  \n"
          ]
        }
      ],
      "source": [
        "# 3.2 Problem 3. The ’Embarked’ column in the Titanic dataset contains categorical data representing the ports of embarkation:\n",
        "# • ’C’ for Cherbourg\n",
        "# • ’Q’ for Queenstown\n",
        "# • ’S’ for Southampton\n",
        "\n",
        "df = pd.read_csv('/content/drive/MyDrive/data set /Titanic-Dataset.csv')\n",
        "\n",
        "# Tasks:\n",
        "# 1. Use one-hot encoding to convert the ’Embarked’ column into separate binary columns (’Embarked C’, ’Embarked Q’, ’Embarked S’).\n",
        "embarked_dummies = pd.get_dummies(df['Embarked'], prefix='Embarked')\n",
        "\n",
        "# 2. Add these new columns to the original DataFrame.\n",
        "df = pd.concat([df, embarked_dummies], axis=1)\n",
        "\n",
        "# 3. Drop the original ’Embarked’ column.\n",
        "df.drop(columns=['Embarked'], inplace=True)\n",
        "\n",
        "# 4. Print the first few rows of the modified DataFrame to verify the changes.\n",
        "print(df.head())"
      ]
    },
    {
      "cell_type": "code",
      "execution_count": 34,
      "id": "f3d1921b-89e8-4979-acfe-d6895eb078fa",
      "metadata": {
        "id": "f3d1921b-89e8-4979-acfe-d6895eb078fa",
        "outputId": "3d2e0437-95d9-495c-db31-d40645cdf319",
        "colab": {
          "base_uri": "https://localhost:8080/",
          "height": 497
        }
      },
      "outputs": [
        {
          "output_type": "stream",
          "name": "stdout",
          "text": [
            "Mean survival rate by gender:\n",
            "Sex\n",
            "female    0.742038\n",
            "male      0.188908\n",
            "Name: Survived, dtype: float64\n"
          ]
        },
        {
          "output_type": "display_data",
          "data": {
            "text/plain": [
              "<Figure size 600x400 with 1 Axes>"
            ],
            "image/png": "[encoded data removed]"
          },
          "metadata": {}
        }
      ],
      "source": [
        "# 3.2 Problem 4. Compare the mean survival rates (’Survived’) for the different groups in the ’Sex’ column.\n",
        "df = pd.read_csv('/content/drive/MyDrive/data set /Titanic-Dataset.csv')\n",
        "\n",
        "mean_survival_by_gender = df.groupby('Sex')['Survived'].mean()\n",
        "print(f\"Mean survival rate by gender:\\n{mean_survival_by_gender}\")\n",
        "\n",
        "# Bar plot to show the mean survival rate by gender\n",
        "plt.figure(figsize=(6, 4))\n",
        "plt.bar(mean_survival_by_gender.index, mean_survival_by_gender.values, color=['blue', 'pink'])\n",
        "plt.title('Mean Survival Rate by Gender')\n",
        "plt.xlabel('Gender')\n",
        "plt.ylabel('Mean Survival Rate')\n",
        "plt.show()"
      ]
    },
    {
      "cell_type": "code",
      "execution_count": 30,
      "id": "f064f013-f22e-4d47-baa9-9e9c95764941",
      "metadata": {
        "id": "f064f013-f22e-4d47-baa9-9e9c95764941",
        "outputId": "263b5079-a1d4-4ab2-88c5-9594be32a175",
        "colab": {
          "base_uri": "https://localhost:8080/",
          "height": 613
        }
      },
      "outputs": [
        {
          "output_type": "stream",
          "name": "stdout",
          "text": [
            "Mean survival rate by gender and embarkation port:\n",
            "Embarked         C         Q         S\n",
            "Sex                                   \n",
            "female    0.876712  0.750000  0.689655\n",
            "male      0.305263  0.073171  0.174603\n"
          ]
        },
        {
          "output_type": "display_data",
          "data": {
            "text/plain": [
              "<Figure size 800x600 with 1 Axes>"
            ],
            "image/png": "[encoded data removed]"
          },
          "metadata": {}
        }
      ],
      "source": [
        "# 3.2 Problem 5. Draw a visualization that breaks your visualization from Exercise 3 down by the port of embarkation\n",
        "# (’Embarked’). In this instance, compare the ports ’C’ (Cherbourg), ’Q’ (Queenstown), and ’S’ (Southampton).\n",
        "\n",
        "mean_survival_by_gender_and_embarked = df.groupby(['Sex', 'Embarked'])['Survived'].mean().unstack()\n",
        "print(f\"Mean survival rate by gender and embarkation port:\\n{mean_survival_by_gender_and_embarked}\")\n",
        "\n",
        "# Bar plot to show the mean survival rate by gender and embarkation port\n",
        "mean_survival_by_gender_and_embarked.plot(kind='bar', figsize=(8, 6), color=['blue', 'pink', 'lightgreen'])\n",
        "plt.title('Mean Survival Rate by Gender and Embarkation Port')\n",
        "plt.xlabel('Gender')\n",
        "plt.ylabel('Mean Survival Rate')\n",
        "plt.xticks(rotation=0)  # Rotate x-axis labels to make them readable\n",
        "plt.legend(title='Embarked', labels=['Cherbourg (C)', 'Queenstown (Q)', 'Southampton (S)'])\n",
        "plt.show()"
      ]
    },
    {
      "cell_type": "code",
      "execution_count": 31,
      "id": "53cbe2bc-47fb-4db0-880e-b872f9391e72",
      "metadata": {
        "id": "53cbe2bc-47fb-4db0-880e-b872f9391e72",
        "outputId": "1ece6875-7ec5-4a01-dcb9-4cc34445a5b0",
        "colab": {
          "base_uri": "https://localhost:8080/",
          "height": 537
        }
      },
      "outputs": [
        {
          "output_type": "stream",
          "name": "stdout",
          "text": [
            "Mean survival rate by Pclass and Age Group:\n",
            "AgeGroup        Q1        Q2        Q3        Q4        Q5\n",
            "Pclass                                                    \n",
            "1         0.809524  0.761905  0.666667  0.777778  0.506667\n",
            "2         0.742857  0.400000  0.416667  0.461538  0.363636\n",
            "3         0.333333  0.197674  0.283582  0.166667  0.088235\n"
          ]
        },
        {
          "output_type": "display_data",
          "data": {
            "text/plain": [
              "<Figure size 1000x600 with 1 Axes>"
            ],
            "image/png": "[encoded data removed]"
          },
          "metadata": {}
        }
      ],
      "source": [
        "# 3.2 Problem 6. (optional) Show how the survival rates (’Survived’) vary by age group and passenger class (’Pclass’).\n",
        "# Break up the ’Age’ column into five quantiles in your DataFrame, and then compare the means of ’Survived’ by class and age group.\n",
        "# Draw a visualization using a any plotting library to represent this graphically.\n",
        "\n",
        "age_quantiles = pd.qcut(df['Age'], 5, labels=['Q1', 'Q2', 'Q3', 'Q4', 'Q5'])\n",
        "df['AgeGroup'] = age_quantiles\n",
        "\n",
        "mean_survival_by_class_and_age = df.groupby(['Pclass', 'AgeGroup'], observed=False)['Survived'].mean().unstack()\n",
        "\n",
        "print(f\"Mean survival rate by Pclass and Age Group:\\n{mean_survival_by_class_and_age}\")\n",
        "\n",
        "# Plot the mean survival rate by Pclass and Age Group\n",
        "mean_survival_by_class_and_age.plot(kind='bar', figsize=(10, 6), color=['blue', 'orange', 'green', 'red', 'purple'])\n",
        "plt.title('Mean Survival Rate by Passenger Class and Age Group')\n",
        "plt.xlabel('Passenger Class')\n",
        "plt.ylabel('Mean Survival Rate')\n",
        "plt.xticks(rotation=0)  # Rotate x-axis labels for better readability\n",
        "plt.legend(title='Age Group', loc='upper left', labels=['Q1', 'Q2', 'Q3', 'Q4', 'Q5'])\n",
        "plt.show()"
      ]
    }
  ],
  "metadata": {
    "kernelspec": {
      "display_name": "Python 3 (ipykernel)",
      "language": "python",
      "name": "python3"
    },
    "language_info": {
      "codemirror_mode": {
        "name": "ipython",
        "version": 3
      },
      "file_extension": ".py",
      "mimetype": "text/x-python",
      "name": "python",
      "nbconvert_exporter": "python",
      "pygments_lexer": "ipython3",
      "version": "3.12.4"
    },
    "colab": {
      "provenance": [],
      "include_colab_link": true
    }
  },
  "nbformat": 4,
  "nbformat_minor": 5
}